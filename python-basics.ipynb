{
  "nbformat": 4,
  "nbformat_minor": 0,
  "metadata": {
    "colab": {
      "name": "5020_w9_python_2019_tut.ipynb",
      "provenance": [],
      "collapsed_sections": [],
      "toc_visible": true
    },
    "kernelspec": {
      "name": "python37364bit07297e7534834037ab0a2aad1bfc6959",
      "display_name": "Python 3.7.3 64-bit"
    },
    "metadata": {
      "interpreter": {
        "hash": "d94ea807e9dd88dec85d6135010093db08445b4f78f2386ac1d177de969ce657"
      }
    }
  },
  "cells": [
    {
      "cell_type": "markdown",
      "metadata": {
        "id": "7FqAaQ9BOuHs"
      },
      "source": [
        "# Python Programming Tutorials\n",
        "\n",
        "PHYS5011, Week 13, 01/06/2021\n",
        "\n",
        "Yu Sun, yu.sun@sydney.edu.au\n",
        "\n",
        "University of Sydney"
      ]
    },
    {
      "cell_type": "markdown",
      "metadata": {
        "id": "8WCefIGBPFrM"
      },
      "source": [
        "Definitions:\n",
        "* **Fibonacci Series**: a series where the value of an item is the sum of the two previous items. The first few items: 1, 1, 2, 3, 5, 8, 13, 21 …"
      ]
    },
    {
      "cell_type": "markdown",
      "metadata": {
        "id": "qJ5c655jO0f2"
      },
      "source": [
        "## Assigning variables\n",
        "1.\tCreate five variables to hold the first five items of the Fibonacci Series. Use an self-explanatory variable name, such as \n",
        "```\n",
        "first = 1\n",
        "second = 1\n",
        "third = 2\n",
        "```\n",
        "\n",
        "\n",
        "\n",
        "\n",
        "\n",
        "\n"
      ]
    },
    {
      "cell_type": "code",
      "metadata": {
        "id": "LKpNkSelS5GY"
      },
      "source": [
        "# Your code goes here\n",
        "\n",
        "\n",
        "\n"
      ],
      "execution_count": null,
      "outputs": []
    },
    {
      "cell_type": "markdown",
      "metadata": {
        "id": "hcxIRnAUp9cp"
      },
      "source": [
        "2.\tDelete the variables defined in the previous step;"
      ]
    },
    {
      "cell_type": "code",
      "metadata": {
        "id": "MqcGQG1Tb9pN"
      },
      "source": [
        "# Your code goes here\n",
        "\n",
        "\n",
        "\n"
      ],
      "execution_count": null,
      "outputs": []
    },
    {
      "cell_type": "markdown",
      "metadata": {
        "id": "3B4cOKbvp5MV"
      },
      "source": [
        "3.\tUse the short-hand notation to achieve step a. Hint:\n",
        "```\n",
        "a, b = 1, 1\n",
        "```"
      ]
    },
    {
      "cell_type": "code",
      "metadata": {
        "id": "_xMuXp5mcG8s"
      },
      "source": [
        "# Your code goes here\n",
        "\n",
        "\n",
        "\n"
      ],
      "execution_count": null,
      "outputs": []
    },
    {
      "cell_type": "markdown",
      "metadata": {
        "id": "r_y7WfRrpvnF"
      },
      "source": [
        "4.\tUse the `dir()` to inspect the environment. Is there any other objects besides what you’ve defined?\n"
      ]
    },
    {
      "cell_type": "code",
      "metadata": {
        "id": "XmMVnDNzcBDJ"
      },
      "source": [
        "# Your code goes here\n",
        "\n",
        "\n",
        "\n"
      ],
      "execution_count": null,
      "outputs": []
    },
    {
      "cell_type": "markdown",
      "metadata": {
        "id": "s-jZrHBApzHy"
      },
      "source": [
        "5.\tUse calculations (rather than direct assignment) to achieve step a. Hint:\n",
        "```\n",
        "third = first + second\n",
        "```\n",
        "\n"
      ]
    },
    {
      "cell_type": "code",
      "metadata": {
        "id": "zBkE7qOKcDyl"
      },
      "source": [
        "# Your code goes here\n",
        "\n",
        "\n",
        "\n"
      ],
      "execution_count": null,
      "outputs": []
    },
    {
      "cell_type": "markdown",
      "metadata": {
        "id": "Sz_YspO9psfK"
      },
      "source": [
        "6.\tUse the `print()` to display what you’ve defined."
      ]
    },
    {
      "cell_type": "code",
      "metadata": {
        "id": "X96j7q21cdUg"
      },
      "source": [
        "# Your code goes here\n",
        "\n",
        "\n",
        "\n"
      ],
      "execution_count": null,
      "outputs": []
    },
    {
      "cell_type": "markdown",
      "metadata": {
        "id": "LgPAlIXtPPFf"
      },
      "source": [
        "## Calculation\n",
        "Calculate the following expressions. You will need to use `print()` to show the results.\n",
        "\n",
        "*\t12 + 24\n",
        "*\t1.24 - 2.3\n",
        "*\t2 * 3.21\n",
        "*\t40 / 2.293\n",
        "*\t1 / (3 + 3j)\n",
        "*\t1 / (3 + 3*j)\n",
        "*\t0.1 + 0.1 + 0.1 == 0.3 (“==” means “equal to”)\n",
        "*\t12 + 24 (assign the answer to a variable called result)\n"
      ]
    },
    {
      "cell_type": "code",
      "metadata": {
        "id": "MakzJsAHS8HG"
      },
      "source": [
        "# Your code goes here\n",
        "\n",
        "\n",
        "\n"
      ],
      "execution_count": null,
      "outputs": []
    },
    {
      "cell_type": "markdown",
      "metadata": {
        "id": "EleqlxQ4RQx8"
      },
      "source": [
        "# The `math` module\n",
        "\n",
        "1. Import the module using\n",
        "```import math```\n",
        "\n"
      ]
    },
    {
      "cell_type": "code",
      "metadata": {
        "id": "sjxMqmYJS9C-"
      },
      "source": [
        "# Your code goes here\n",
        "\n",
        "\n",
        "\n"
      ],
      "execution_count": null,
      "outputs": []
    },
    {
      "cell_type": "markdown",
      "metadata": {
        "id": "-NSrN_JlqHXM"
      },
      "source": [
        "2. Use `dir()` and see what is added in the global environment.\n",
        "\tUse `dir(math)` to inspect what’s inside the module and find the corresponding variables for the followings. Use `help()` to validate your results and get the syntax (e.g. `help(math.sin)`)\n",
        "\t* Sine\n",
        "\t* Cosine\n",
        "\t* π\n",
        "\t* Power\n",
        "\t* Log (based 2)"
      ]
    },
    {
      "cell_type": "code",
      "metadata": {
        "id": "UM6BRcyOh2ol"
      },
      "source": [
        "# Your code goes here\n",
        "\n",
        "\n",
        "\n"
      ],
      "execution_count": null,
      "outputs": []
    },
    {
      "cell_type": "markdown",
      "metadata": {
        "id": "kxHDAJjSqETY"
      },
      "source": [
        "3. Compute the following expression\n",
        "$$(\\sin(\\frac{\\pi}{3})+\\cos(\\frac{\\pi}{4})+\\log_2{32})^3$$"
      ]
    },
    {
      "cell_type": "code",
      "metadata": {
        "id": "G92_RDxLjewe"
      },
      "source": [
        "# Your code goes here\n",
        "\n",
        "\n",
        "\n"
      ],
      "execution_count": null,
      "outputs": []
    },
    {
      "cell_type": "markdown",
      "metadata": {
        "id": "-gKUo6_sdZrH"
      },
      "source": [
        "## Install modules\n",
        "1. Try import the module `dicom`;\n",
        "2. If unsuccessful, install the module using the following command. Note that the ! indicates it's a shell command, rather than a Python command.\n",
        "```\n",
        "!pip install dicom\n",
        "```\n",
        "3. Repeat step 1. If no error, then it's imported.\n",
        "\n",
        "This is how to install modules in Python using `pip`. If you're using other distributions of Python, such as Anaconda, there could be a different package manageer (`conda` for Anaconda)\n"
      ]
    },
    {
      "cell_type": "code",
      "metadata": {
        "id": "JbPo8Hq1ddji"
      },
      "source": [
        "# Your code goes here\n",
        "\n",
        "\n",
        "\n"
      ],
      "execution_count": null,
      "outputs": []
    },
    {
      "cell_type": "markdown",
      "metadata": {
        "id": "gDj3_CvSS3YE"
      },
      "source": [
        "##\tString manipulations\n",
        "1.\tCreate a single-line string: <pre>\"Python and data analytics    \"</pre>and assign it to variable `s`. Notice there are four trailing spaces.\n",
        "\n"
      ]
    },
    {
      "cell_type": "code",
      "metadata": {
        "id": "3dtJV-aGVySy"
      },
      "source": [
        "# Your code goes here\n",
        "\n",
        "\n",
        "\n"
      ],
      "execution_count": null,
      "outputs": []
    },
    {
      "cell_type": "markdown",
      "metadata": {
        "id": "-aNZ40aiqUif"
      },
      "source": [
        "2.\tRun the followings:\n",
        "```\n",
        "s2 = input('Please type your sentence: ')\n",
        "```\n",
        "and manually type the string in step a.\n",
        "Is `s2` the same as `s`? Use the “equal to” operator (`==`) to compare.\n",
        "\n"
      ]
    },
    {
      "cell_type": "code",
      "metadata": {
        "id": "2FBPHoeEnCAB"
      },
      "source": [
        "# Your code goes here\n",
        "\n",
        "\n",
        "\n"
      ],
      "execution_count": null,
      "outputs": []
    },
    {
      "cell_type": "markdown",
      "metadata": {
        "id": "1-l4Y6QzqSSW"
      },
      "source": [
        "3.\tUse `dir(s)` to inspect the properties and methods associated with string `s`. Again, use `help()` to get the syntax details (e.g. `help(s.upper)`) of the following functions\n",
        " *\t`upper`\n",
        " *\t`lower`\n",
        " *\t`title`\n",
        " *\t`strip`\n",
        " *\t`isdigit`\n",
        " *\t`zfill`\n",
        " *\t`center`\n"
      ]
    },
    {
      "cell_type": "code",
      "metadata": {
        "id": "d57xBzKTnqTZ"
      },
      "source": [
        "# Your code goes here\n",
        "\n",
        "\n",
        "\n"
      ],
      "execution_count": null,
      "outputs": []
    },
    {
      "cell_type": "markdown",
      "metadata": {
        "id": "VKrTaHYcqMFk"
      },
      "source": [
        "4.\tRun the followings:\n",
        " *\t`s.upper()`\n",
        " *\t`s.lower()`\n",
        " *\t`s.title()`\n",
        " *\t`s.isdigit()` # what about `s2 = ‘124242’; s2.isdigit()`\n",
        " *\t`s.zfill(35)` # what about `s.zfill(40)`\n",
        " *\t`s.center(80)` # what about `s.center(80, ‘*’)`\n"
      ]
    },
    {
      "cell_type": "code",
      "metadata": {
        "id": "A7kK_7QtoRYD"
      },
      "source": [
        "# Your code goes here\n",
        "\n",
        "\n",
        "\n"
      ],
      "execution_count": null,
      "outputs": []
    },
    {
      "cell_type": "markdown",
      "metadata": {
        "id": "d3tDOG2STGkm"
      },
      "source": [
        "## List\n",
        "1.\tDefine `myList` to hold the first ten items of the Fibonacci Series, e.g. \n",
        "```\n",
        "1, 1, 2, 3, 5, 8, 13, 21, 34, 55\n",
        "```\n"
      ]
    },
    {
      "cell_type": "code",
      "metadata": {
        "id": "F_QXbZRJtJUO"
      },
      "source": [
        "# Your code goes here\n",
        "\n",
        "\n",
        "\n"
      ],
      "execution_count": null,
      "outputs": []
    },
    {
      "cell_type": "markdown",
      "metadata": {
        "id": "Qa9ob3pfs_NG"
      },
      "source": [
        "2.\tUse slicing to get the following subsets:\n",
        " * The third item;\n",
        " * First four items;\n",
        " * The third to the eighth items;\n",
        " * Last item (Hint: a negative number means counting backwards)\n"
      ]
    },
    {
      "cell_type": "code",
      "metadata": {
        "id": "GtI9gJpftOpO"
      },
      "source": [
        "# Your code goes here\n",
        "\n",
        "\n",
        "\n"
      ],
      "execution_count": null,
      "outputs": []
    },
    {
      "cell_type": "markdown",
      "metadata": {
        "id": "3WzpNc2Gs_Bi"
      },
      "source": [
        "\n",
        "3.\tChange the last item to string `‘Fifty five’`.\n",
        "\n"
      ]
    },
    {
      "cell_type": "code",
      "metadata": {
        "id": "FuZrwgs_tiMm"
      },
      "source": [
        "# Your code goes here\n",
        "\n",
        "\n",
        "\n"
      ],
      "execution_count": null,
      "outputs": []
    },
    {
      "cell_type": "markdown",
      "metadata": {
        "id": "BpED2-6cs-14"
      },
      "source": [
        "4.\tAssign `myList` directly to `myList2`. \n",
        "```\n",
        "myList2 = myList #(There was a typo here in the first draft, now corrected)\n",
        "```\n",
        "Run the following check:\n",
        "```\n",
        "myList == myList2 # Check the value\n",
        "myList is myList2 # Check the identity\n",
        "```\n"
      ]
    },
    {
      "cell_type": "code",
      "metadata": {
        "id": "LnHrupu6tnAk"
      },
      "source": [
        "# Your code goes here\n",
        "\n",
        "\n",
        "\n"
      ],
      "execution_count": null,
      "outputs": []
    },
    {
      "cell_type": "markdown",
      "metadata": {
        "id": "LP1-ttGYs-pn"
      },
      "source": [
        "5.\tAssign the content of `myList` (through slicing) to `myList2`. \n",
        "```\n",
        "myList2 = myList[:]\n",
        "```\n",
        "Run the same check again and observe the difference. Recall what we want when copying data (same value but different copy).\n",
        "```\n",
        "myList == myList2 # Check the value\n",
        "myList is myList2 # Check the identity\n",
        "```"
      ]
    },
    {
      "cell_type": "code",
      "metadata": {
        "id": "ghLa7KPiVzV8"
      },
      "source": [
        "# Your code goes here\n",
        "\n",
        "\n",
        "\n"
      ],
      "execution_count": null,
      "outputs": []
    },
    {
      "cell_type": "markdown",
      "metadata": {
        "id": "E5XbmJVtVpKl"
      },
      "source": [
        "## Tuples\n",
        "1.\tCast `myList` to a tuple `myTuple`:\n",
        "```\n",
        "myTuple = tuple(myList) \n",
        "```\n"
      ]
    },
    {
      "cell_type": "code",
      "metadata": {
        "id": "XeT8BKO8V0r8"
      },
      "source": [
        "# Your code goes here\n",
        "\n",
        "\n",
        "\n"
      ],
      "execution_count": null,
      "outputs": []
    },
    {
      "cell_type": "markdown",
      "metadata": {
        "id": "73c_Raxnvo1A"
      },
      "source": [
        "2.\tChange the last item back to integer `55`. Observe what happens.\n"
      ]
    },
    {
      "cell_type": "code",
      "metadata": {
        "id": "Q1B4QDp7vw90"
      },
      "source": [
        "# Your code goes here\n",
        "\n",
        "\n",
        "\n"
      ],
      "execution_count": null,
      "outputs": []
    },
    {
      "cell_type": "markdown",
      "metadata": {
        "id": "bFZ_JXDWNOQ9"
      },
      "source": [
        "## Dictionaries\n",
        "1.\tCreate a dictionary that holds a person's name and gener: "
      ]
    },
    {
      "cell_type": "code",
      "metadata": {
        "id": "VnGSDXR4NRp1"
      },
      "source": [
        "info  = {\n",
        "    'name': 'John Doe',\n",
        "    'gender': 'male'\n",
        "}"
      ],
      "execution_count": null,
      "outputs": []
    },
    {
      "cell_type": "markdown",
      "metadata": {
        "id": "ED8Nr_tiVwxt"
      },
      "source": [
        "\n",
        "Query the name using info. Note the key `name` is a string.\n",
        "\n"
      ]
    },
    {
      "cell_type": "code",
      "metadata": {
        "id": "EXewcm7ewT3Y"
      },
      "source": [
        "# Your code goes here\n",
        "\n",
        "\n",
        "\n"
      ],
      "execution_count": null,
      "outputs": []
    },
    {
      "cell_type": "markdown",
      "metadata": {
        "id": "Sm9PL_OdwOZW"
      },
      "source": [
        "2.\tSet address in the dictionary.\n",
        "```\n",
        "info['address'] = 'University of Sydney, Camperdown, NSW, Australia'\n",
        "```\n",
        "\n",
        "\n"
      ]
    },
    {
      "cell_type": "code",
      "metadata": {
        "id": "4SVXpEhVwaCk"
      },
      "source": [
        "# Your code goes here\n",
        "\n",
        "\n",
        "\n"
      ],
      "execution_count": null,
      "outputs": []
    },
    {
      "cell_type": "markdown",
      "metadata": {
        "id": "DZoNRHPwwP46"
      },
      "source": [
        "3.\tWhat if you use `myTuple` as a key? Try it. This time, you’re referencing `myTuple`, so it’s not a string.\n",
        "```\n",
        "info[myTuple] = 'Some value'\n",
        "```\n"
      ]
    },
    {
      "cell_type": "code",
      "metadata": {
        "id": "4zd0jWhYwmxJ"
      },
      "source": [
        "# Your code goes here\n",
        "\n",
        "\n",
        "\n"
      ],
      "execution_count": null,
      "outputs": []
    },
    {
      "cell_type": "markdown",
      "metadata": {
        "id": "iGcFFSi-wRHp"
      },
      "source": [
        "\n",
        "4.\tWhat about using `myList` as a key?"
      ]
    },
    {
      "cell_type": "code",
      "metadata": {
        "id": "Nu2f9bfsW4Zh"
      },
      "source": [
        "# Your code goes here\n",
        "\n",
        "\n",
        "\n"
      ],
      "execution_count": null,
      "outputs": []
    },
    {
      "cell_type": "markdown",
      "metadata": {
        "id": "u_C81JD0W8Wx"
      },
      "source": [
        "## Boolean values and conditions\n",
        "1.\tUse `bool()` to cast the following objects into a Boolean value. E.g. `bool(0)`\n",
        " * Numbers: `0, 1, -1, 2.3`\n",
        " * Strings: `‘’, ‘a string’`\n",
        " * Sequences: `[], [1, 2, 3]`\n"
      ]
    },
    {
      "cell_type": "code",
      "metadata": {
        "id": "r5q831h5yMom"
      },
      "source": [
        "# Your code goes here\n",
        "\n",
        "\n",
        "\n"
      ],
      "execution_count": null,
      "outputs": []
    },
    {
      "cell_type": "markdown",
      "metadata": {
        "id": "LfTNsXzbyL57"
      },
      "source": [
        "\n",
        "2.\tRun the following code to stratify the tumour grade. Note Gleason Score is a measure of aggressiveness for prostate cancer."
      ]
    },
    {
      "cell_type": "code",
      "metadata": {
        "id": "XSTYOZbiXYmi"
      },
      "source": [
        "# Determine the tumour grade based on the Gleason Score\n",
        "\n",
        "gleason_score = 8 \n",
        "\n",
        "if gleason_score == 2:\n",
        "    print('Close to normal tissues.')\n",
        "elif gleason_score <= 6 and gleason_score >= 2:\n",
        "    print('A low-grade tumour.')\n",
        "elif gleason_score <= 7:\n",
        "    print('An intermediate-grade tumour.')\n",
        "elif gleason_score <= 9:\n",
        "    print('A high-grade tumour.')"
      ],
      "execution_count": null,
      "outputs": []
    },
    {
      "source": [
        "3. Dictionaries can be used to condition mappings. Try to re-write the code above using dictionnaries. Refer to the following two snippets of code.\n",
        "```python\n",
        "# Snippet 1\n",
        "stage = 'local'\n",
        "if stage == 'local':\n",
        "    print('Can be treated with surgery.')\n",
        "elif stage == 'locally advanced':\n",
        "    print('Can be treated with radiation therapy.')\n",
        "elif stage == 'distal':\n",
        "    print('Can be treated with chemotherapy / immunotherapy.')\n",
        "```\n",
        "\n",
        "```python\n",
        "# Snippet 2\n",
        "stage = 'local'\n",
        "mapping = {\n",
        "    'local': 'surgery',\n",
        "    'locally advanced': 'radiation therapy',\n",
        "    'distal': 'chemotherapy / immunotherapy'\n",
        "}\n",
        "print(f'Can be treated with {treatments[stage]}.')\n",
        "```\n"
      ],
      "cell_type": "markdown",
      "metadata": {}
    },
    {
      "cell_type": "code",
      "execution_count": null,
      "metadata": {},
      "outputs": [],
      "source": []
    },
    {
      "cell_type": "markdown",
      "metadata": {
        "id": "LsOGAgI6XnI2"
      },
      "source": [
        "##\tLoops\n",
        "1.\tUse the for loop to print every item in myList;\n"
      ]
    },
    {
      "cell_type": "code",
      "metadata": {
        "id": "6E8yIo9RI06e"
      },
      "source": [
        "# Your code goes here\n",
        "\n",
        "\n",
        "\n"
      ],
      "execution_count": null,
      "outputs": []
    },
    {
      "cell_type": "markdown",
      "metadata": {
        "id": "Ifr5x-QmI2CW"
      },
      "source": [
        "2.\tRun the following code. An example to use the for loop to get the square root of items in `myList`.\n"
      ]
    },
    {
      "cell_type": "code",
      "metadata": {
        "id": "9tIsZm3MX8Op"
      },
      "source": [
        "import math\n",
        "\n",
        "# Define a new empty list\n",
        "sqrtList = []\n",
        "# Iterate myList and get the square root of each item\n",
        "for i in myList:\n",
        "    sqrt = math.sqrt(i)\n",
        "    sqrtList.append(sqrt)\n",
        "# Print the result\n",
        "print(sqrtList)"
      ],
      "execution_count": null,
      "outputs": []
    },
    {
      "cell_type": "markdown",
      "metadata": {
        "id": "XQpfcN2qYF8X"
      },
      "source": [
        "##\tFunctions – key points\n",
        "\n",
        "1.\tDefining a function is different from calling a function.\n",
        "Define the following function. Is the message printed soon after you define the function?\n"
      ]
    },
    {
      "cell_type": "code",
      "metadata": {
        "id": "k2j_Z8vpJBKq"
      },
      "source": [
        "def myFunc():\n",
        "    message = 'A sample message'\n",
        "    print(message)\n",
        "\n",
        "# Now call the function, indicated by the parentheses\n",
        "# Does it print the message?\n",
        "myFunc()"
      ],
      "execution_count": null,
      "outputs": []
    },
    {
      "cell_type": "markdown",
      "metadata": {
        "id": "WZmJqRtJJBkz"
      },
      "source": [
        "2.\tArguments can be passed into the function. Re-define the function:"
      ]
    },
    {
      "cell_type": "code",
      "metadata": {
        "id": "wlqI2Yw2JB77"
      },
      "source": [
        "def myFunc(message):\n",
        "    print(message)\n",
        "    \n",
        "# Call the function with arguments: \n",
        "myFunc('A sample message')\n",
        "\n",
        "# What happen if you call without the argument: myFunc()"
      ],
      "execution_count": null,
      "outputs": []
    },
    {
      "cell_type": "code",
      "metadata": {
        "id": "UH8Vez3yz9bT"
      },
      "source": [
        "# Your code goes here\n",
        "\n",
        "\n",
        "\n"
      ],
      "execution_count": null,
      "outputs": []
    },
    {
      "cell_type": "markdown",
      "metadata": {
        "id": "txxuWFA1JCRS"
      },
      "source": [
        "3.\tDefault arguments can be set.\n"
      ]
    },
    {
      "cell_type": "code",
      "metadata": {
        "id": "8DsU0dDxJCmq"
      },
      "source": [
        "def myFunc(message='A sample message'):\n",
        "    print(message)"
      ],
      "execution_count": null,
      "outputs": []
    },
    {
      "cell_type": "markdown",
      "metadata": {
        "id": "f4P0ENMbK1xP"
      },
      "source": [
        "> Call it without the argument `myFunc()`, which will use the default value. Then call it with a different message"
      ]
    },
    {
      "cell_type": "code",
      "metadata": {
        "id": "NL5_tUJy0UN7"
      },
      "source": [
        "# Your code goes here\n",
        "\n",
        "\n",
        "\n"
      ],
      "execution_count": null,
      "outputs": []
    },
    {
      "cell_type": "code",
      "metadata": {
        "id": "mexIrFv6L5oj"
      },
      "source": [
        "myFunc('Another message which overrides the default argument')"
      ],
      "execution_count": null,
      "outputs": []
    },
    {
      "cell_type": "markdown",
      "metadata": {
        "id": "Fv5kgzqSKjTH"
      },
      "source": [
        "4.\tFunctions are also objects, which means they can be assigned to other variables.\n",
        "```\n",
        "anotherFunc = myFunc\n",
        "anotherFunc()\n",
        "```\n",
        "Examine the identity of `myFunc` and `anotherFunc` using `id()`."
      ]
    },
    {
      "cell_type": "code",
      "metadata": {
        "id": "AJ1qQpbo0muM"
      },
      "source": [
        "# Your code goes here\n",
        "\n",
        "\n",
        "\n"
      ],
      "execution_count": null,
      "outputs": []
    },
    {
      "cell_type": "markdown",
      "metadata": {
        "id": "TFiv0r16Lgih"
      },
      "source": [
        "5.\tFill the blanks to define a function which return the first n (n>2) items of a Fibonacci Series.\n"
      ]
    },
    {
      "cell_type": "code",
      "metadata": {
        "id": "EuY5C0TaKhYY"
      },
      "source": [
        "___ getFibSer(n):\n",
        "    # Initiate the Fibonacci Series\n",
        "    fibSer = [1, 1]    \n",
        "    # Use the for loop to generate the following items\n",
        "    for i in range(n-2):\n",
        "        fibSer.append(fibSer[-1] + fibSer[-2])\n",
        "    ______ fibSer\n",
        "    \n",
        "    \n",
        "# Call the function to test it:\n",
        "getFibSer(5)\n",
        "getFibSer(8)\n",
        "getFibSer(10)\n",
        "getFibSer(12)"
      ],
      "execution_count": null,
      "outputs": []
    },
    {
      "cell_type": "code",
      "metadata": {
        "id": "1CPli_Uj1MFg"
      },
      "source": [
        "# Your code goes here\n",
        "\n",
        "\n",
        "\n"
      ],
      "execution_count": null,
      "outputs": []
    },
    {
      "cell_type": "markdown",
      "metadata": {
        "id": "z3ytarFDKhFa"
      },
      "source": [
        "6.\tVariable scopes: in the previous example, we have defined a variable called `fibSer` in the function. Use `dir()` to inspect the global scope. Is `fibSer` there? How can we inspect the local scope of the function?\n"
      ]
    },
    {
      "cell_type": "code",
      "metadata": {
        "id": "s-ToXAM4LoXg"
      },
      "source": [
        "# Your code goes here\n",
        "\n",
        "\n",
        "\n"
      ],
      "execution_count": null,
      "outputs": []
    },
    {
      "cell_type": "markdown",
      "metadata": {
        "id": "gZutaMjAaw4K"
      },
      "source": [
        "## Modules\n",
        "1.\tDelete `getFibSer` from the global scope;\n",
        "\n"
      ]
    },
    {
      "cell_type": "code",
      "metadata": {
        "id": "-HpmaDLs-nes"
      },
      "source": [
        "# Your code goes here\n",
        "\n",
        "\n",
        "\n"
      ],
      "execution_count": null,
      "outputs": []
    },
    {
      "cell_type": "markdown",
      "metadata": {
        "id": "z1hRDsJy-Z0m"
      },
      "source": [
        "2.\tUse a text editor to save `getFibSer` as a plain text file `myModule.py`. Upload that file by \"File\" - \"Open\", then hit \"Upload\".\n",
        "\n",
        "\n",
        "\n"
      ]
    },
    {
      "cell_type": "code",
      "metadata": {
        "id": "VJfg004F-9nF"
      },
      "source": [
        "# Your code goes here\n",
        "\n",
        "\n",
        "\n"
      ],
      "execution_count": null,
      "outputs": []
    },
    {
      "cell_type": "code",
      "metadata": {
        "id": "yNjowKRj_U9X"
      },
      "source": [
        "# Shell command to show all .py files in the current folder\n",
        "! ls *.py"
      ],
      "execution_count": null,
      "outputs": []
    },
    {
      "cell_type": "markdown",
      "metadata": {
        "id": "X7ZTYCcR-Zbk"
      },
      "source": [
        "3.\tNow you can import that as a module and access to its contents \n",
        "```\n",
        "import myModule\n",
        "myModule.getFibSer(10)\n",
        "```"
      ]
    },
    {
      "cell_type": "code",
      "metadata": {
        "id": "_xUqqi7U_emM"
      },
      "source": [
        "# Your code goes here\n",
        "\n",
        "\n",
        "\n"
      ],
      "execution_count": null,
      "outputs": []
    },
    {
      "cell_type": "markdown",
      "metadata": {
        "id": "buUM_dJa-ZLI"
      },
      "source": [
        "4.\tUse `dir()` to inspect the global scope;"
      ]
    },
    {
      "cell_type": "code",
      "metadata": {
        "id": "LfBzglxsABj5"
      },
      "source": [
        "# Your code goes here\n",
        "\n",
        "\n",
        "\n"
      ],
      "execution_count": null,
      "outputs": []
    },
    {
      "cell_type": "markdown",
      "metadata": {
        "id": "qxlEdTIr-ZC0"
      },
      "source": [
        "5.\tUse `dir(myModule)` to inspect myModule;\n"
      ]
    },
    {
      "cell_type": "code",
      "metadata": {
        "id": "EHVZhd1NAMj8"
      },
      "source": [
        "# Your code goes here\n",
        "\n",
        "\n",
        "\n"
      ],
      "execution_count": null,
      "outputs": []
    },
    {
      "cell_type": "markdown",
      "metadata": {
        "id": "wraKG_j5-Y6g"
      },
      "source": [
        "6.\tIf you just want to import a specific object (rather than the whole module):\n",
        "```\n",
        "from myModule import getFibSer\n",
        "```"
      ]
    },
    {
      "cell_type": "code",
      "metadata": {
        "id": "uqu-jNr3AX6h"
      },
      "source": [
        "# Your code goes here\n",
        "\n",
        "\n",
        "\n"
      ],
      "execution_count": null,
      "outputs": []
    },
    {
      "cell_type": "markdown",
      "metadata": {
        "id": "KULEiBUN-YwD"
      },
      "source": [
        "7.\tNow you see modules are simply some scripts. Using import you can allocate the required functionality for your purposes. To import a specific part, use the  `from … import …` syntax."
      ]
    },
    {
      "cell_type": "markdown",
      "metadata": {
        "id": "Hi4lQGnzbYMn"
      },
      "source": [
        "##\tFile manipulation\n",
        "1.\tCreate a file and write something to it:\n",
        "```\n",
        "f = open('test.txt', 'w')\n",
        "f.write('ACPSM Machine Learning Workshop 2019')\n",
        "f.close()\n",
        "```\n",
        "\n"
      ]
    },
    {
      "cell_type": "code",
      "metadata": {
        "id": "EGrxOowWcEK5"
      },
      "source": [
        "# Your code goes here\n",
        "\n",
        "\n",
        "\n"
      ],
      "execution_count": null,
      "outputs": []
    },
    {
      "cell_type": "markdown",
      "metadata": {
        "id": "W1i9hr9uBAYD"
      },
      "source": [
        "2.\tRefresh the file panel, find the file, double click on it and confirm the string is written."
      ]
    },
    {
      "cell_type": "markdown",
      "metadata": {
        "id": "vILSmFAXcMLE"
      },
      "source": [
        "##\tPutting things together\n",
        "\n",
        "In this section, we will build an interface which collects the demographic information of a person. First read the code and try to understand.\n"
      ]
    },
    {
      "cell_type": "code",
      "metadata": {
        "id": "w1kXHblLM6fc"
      },
      "source": [
        "def collectDemo():\n",
        "    '''This function collects the demographic information of a person'''\n",
        "    title = 'Demographic Collector'\n",
        "    print(title.center(80, '*'))\n",
        "\n",
        "    instruction = 'Please input your information following the prompt:'\n",
        "    print(instruction)\n",
        "\n",
        "    person = {}\n",
        "    keys = ['name', 'gender', 'age', 'nationality']\n",
        "\n",
        "    for eachKey in keys:\n",
        "        person[eachKey] = input(eachKey.title() + ': ')\n",
        "\n",
        "    return person"
      ],
      "execution_count": null,
      "outputs": []
    },
    {
      "cell_type": "markdown",
      "metadata": {
        "id": "bRe33KU8M9Oh"
      },
      "source": [
        "\n",
        "Run the code:\n"
      ]
    },
    {
      "cell_type": "code",
      "metadata": {
        "id": "hyZvlVG-M-Y7"
      },
      "source": [
        "p = collectDemo()"
      ],
      "execution_count": null,
      "outputs": []
    },
    {
      "cell_type": "code",
      "execution_count": null,
      "metadata": {},
      "outputs": [],
      "source": [
        "print(p)"
      ]
    },
    {
      "cell_type": "markdown",
      "metadata": {
        "id": "FWx_ymbCfAJ4"
      },
      "source": [
        "This is the end of the session. "
      ]
    }
  ]
}
